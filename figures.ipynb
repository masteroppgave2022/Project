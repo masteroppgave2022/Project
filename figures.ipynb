{
 "cells": [
  {
   "cell_type": "code",
   "execution_count": 1,
   "metadata": {},
   "outputs": [
    {
     "name": "stderr",
     "output_type": "stream",
     "text": [
      "INFO: org.esa.s2tbx.dataio.gdal.GDALVersion: Incompatible GDAL 3.3.2 found on system. Internal GDAL 3.0.0 from distribution will be used.\n",
      "INFO: org.esa.s2tbx.dataio.gdal.GDALVersion: Internal GDAL 3.0.0 set to be used by SNAP.\n",
      "INFO: org.esa.snap.core.gpf.operators.tooladapter.ToolAdapterIO: Initializing external tool adapters\n",
      "INFO: org.esa.snap.core.util.EngineVersionCheckActivator: Please check regularly for new updates for the best SNAP experience.\n"
     ]
    }
   ],
   "source": [
    "from data.preprocess_functions import Preprocess\n",
    "import matplotlib.pyplot as plt \n",
    "import numpy as np\n",
    "import rasterio\n",
    "\n",
    "def output_view(product, band, min_value_VV, max_value_VV, min_value_VH, max_value_VH):\n",
    "    band_data_list = []\n",
    "    for i in band:\n",
    "        band = product.getBand(i)\n",
    "        w = band.getRasterWidth()\n",
    "        h = band.getRasterHeight()\n",
    "        band_data = np.zeros(w * h, np.float32)\n",
    "        band.readPixels(0, 0, w, h, band_data)\n",
    "        band_data.shape = h, w\n",
    "        band_data_list.append(band_data)\n",
    "\n",
    "    fig, (ax1,ax2) = plt.subplots(1,2, figsize=(16,16))\n",
    "    ax1.imshow(band_data_list[0],cmap='gray',vmin=min_value_VV,vmax=max_value_VV)\n",
    "    ax1.set_title(output_bands[0])\n",
    "    ax2.imshow(band_data_list[1],cmap='gray',vmin=min_value_VH,vmax=max_value_VH)\n",
    "    ax2.set_title(output_bands[1])\n",
    "\n",
    "    for ax in fig.get_axes():\n",
    "        ax.label_outer()\n",
    "    plt.show()\n",
    "\n",
    "def view_np_array(image_original, image_altered, hist:bool=False):\n",
    "    \"\"\" Plot all two bands (sigma_VV) \"\"\"\n",
    "    fig, axs = plt.subplots(1,2,figsize=(16,16))\n",
    "    if hist:\n",
    "        axs[0].plot(image_original)\n",
    "        axs[1].plot(image_altered)\n",
    "    else:\n",
    "        vmin,vmax = 0.00,0.27\n",
    "        axs[0].imshow(image_original[:,:,0],cmap='gray',vmin=vmin,vmax=vmax)\n",
    "        axs[1].imshow(image_altered[:,:,0],cmap='gray',vmin=vmin,vmax=1)\n",
    "    axs[0].set_title('Original Image')\n",
    "    axs[1].set_title('Normalized/Enhanced Image')\n",
    "    plt.show()\n",
    "\n",
    "def plot2bands(image, hist:bool=False):\n",
    "    \"\"\" Plot all two bands (sigma_VV) \"\"\"\n",
    "    fig, axs = plt.subplots(1,2,figsize=(16,16))\n",
    "    if hist:\n",
    "        axs[0].plot(image)\n",
    "        axs[1].plot(image)\n",
    "    else:\n",
    "        vmin,vmax = 0.00,0.27\n",
    "        axs[0].imshow(image[:,:,0],cmap='gray',vmin=vmin,vmax=vmax)\n",
    "        axs[1].imshow(image[:,:,1],cmap='gray',vmin=vmin,vmax=1)\n",
    "    axs[0].set_title('Band_0')\n",
    "    axs[1].set_title('Band_1')\n",
    "    plt.show()\n",
    "\n",
    "def plot_img_and_subset(image_original, image_subset, band, figname=None, hist:bool=False):\n",
    "    \"\"\" Plot all two bands (sigma_VV) \"\"\"\n",
    "\n",
    "    band_o = image_original.getBand(band) \n",
    "    w_o = band_o.getRasterWidth()\n",
    "    h_o = band_o.getRasterHeight() \n",
    "    print(w_o, h_o)\n",
    "\n",
    "    band_data_o = np.zeros(w_o* h_o, np.float32) \n",
    "    band_o.readPixels(0, 0, w_o, h_o, band_data_o)\n",
    "\n",
    "    band_data_o.shape = h_o, w_o\n",
    "\n",
    "    band_s = image_subset.getBand(band) \n",
    "    w_s = band_s.getRasterWidth()\n",
    "    h_s = band_s.getRasterHeight() \n",
    "    print(w_s, h_s)\n",
    "\n",
    "    band_data_s = np.zeros(w_s* h_s, np.float32) \n",
    "    band_s.readPixels(0, 0, w_s, h_s, band_data_s)\n",
    "\n",
    "    band_data_s.shape = h_s, w_s\n",
    "\n",
    "    fig, axs = plt.subplots(1,2,figsize=(16,16))\n",
    "    if hist:\n",
    "        axs[0].plot(image_original)\n",
    "        axs[1].plot(image_subset)\n",
    "    else:\n",
    "        vmin,vmax = 20,160\n",
    "        axs[0].imshow(band_data_o,cmap='gray',vmin=vmin,vmax=vmax)\n",
    "        axs[1].imshow(band_data_s,cmap='gray',vmin=vmin,vmax=vmax)\n",
    "    axs[0].set_title('Original Image')\n",
    "    axs[1].set_title('Subset')\n",
    "    #plt.show()\n",
    "    if figname: plt.savefig(figname)\n",
    "    return band_data_o, band_data_s"
   ]
  },
  {
   "cell_type": "code",
   "execution_count": 2,
   "metadata": {},
   "outputs": [
    {
     "name": "stderr",
     "output_type": "stream",
     "text": [
      "QStandardPaths: XDG_RUNTIME_DIR not set, defaulting to '/tmp/runtime-renatask'\n"
     ]
    }
   ],
   "source": [
    "def plotBand(product, band, figname, vmin, vmax):\n",
    "    band = product.getBand(band) \n",
    "    w = band.getRasterWidth()\n",
    "    h = band.getRasterHeight() \n",
    "    print(w, h)\n",
    "\n",
    "    band_data = np.zeros(w * h, np.float32) \n",
    "    band.readPixels(0, 0, w, h, band_data)\n",
    "\n",
    "    band_data.shape = h, w\n",
    "\n",
    "    width = 12\n",
    "    height = 12\n",
    "    plt.figure(figsize=(width, height))\n",
    "    imgplot = plt.imshow(band_data, cmap=plt.cm.binary, vmin=vmin, vmax=vmax)\n",
    "    plt.imshow(band_data, cmap=plt.cm.binary, vmin=vmin, vmax=vmax)\n",
    "    plt.savefig(figname)\n",
    "    #plt.show()\n",
    "    return imgplot"
   ]
  },
  {
   "cell_type": "code",
   "execution_count": 3,
   "metadata": {},
   "outputs": [],
   "source": [
    "def prepare_plot(image, band):\n",
    "    band_o = image.getBand(band) \n",
    "    w_o = band_o.getRasterWidth()\n",
    "    h_o = band_o.getRasterHeight() \n",
    "    print(w_o, h_o)\n",
    "\n",
    "    band_data_o = np.zeros(w_o* h_o, np.float32) \n",
    "    band_o.readPixels(0, 0, w_o, h_o, band_data_o)\n",
    "\n",
    "    band_data_o.shape = h_o, w_o\n",
    "    \n",
    "    return band_data_o"
   ]
  },
  {
   "cell_type": "code",
   "execution_count": 4,
   "metadata": {},
   "outputs": [
    {
     "name": "stderr",
     "output_type": "stream",
     "text": [
      "INFO: org.esa.s2tbx.dataio.gdal.GDALVersion: Internal GDAL 3.0.0 set to be used by SNAP.\n"
     ]
    },
    {
     "name": "stdout",
     "output_type": "stream",
     "text": [
      "\n"
     ]
    },
    {
     "name": "stderr",
     "output_type": "stream",
     "text": [
      "INFO: org.hsqldb.persist.Logger: dataFileCache open start\n"
     ]
    },
    {
     "name": "stdout",
     "output_type": "stream",
     "text": [
      "100% done.\n"
     ]
    }
   ],
   "source": [
    "\"\"\" Testing processing pipeline \"\"\"\n",
    "image_path = '/localhome/studenter/renatask/Project/data/unprocessed_downloads/S1A_IW_GRDH_1SDV_20200911T171132_20200911T171157_034314_03FD33_F227.zip'\n",
    "shp_path = '/localhome/studenter/renatask/Project/data/shapefiles/andalsnes/andalsnes.shp'\n",
    "pp = Preprocess()\n",
    "output_bands1 = ['Amplitude_VV', 'Amplitude_VH'] # 41, 286, 20, 160\n",
    "output_bands2 = ['Intensity_VV', 'Intensity_VH'] # 0.02, 99376.52, 0.27, 18471.83\n",
    "output_bands3 = ['Sigma0_VV', 'Sigma0_VH'] # 0.00, 0.28, 0.00, 0.05\n",
    "\n",
    "product = pp.read_product(image_path)\n",
    "subset = pp.subset(product,shp_path)\n",
    "\n",
    "#plotBand(product, output_bands1[1], 'test', 20, 160)\n",
    "\n",
    "#plot_img_and_subset(band_data, subset)\n"
   ]
  },
  {
   "cell_type": "code",
   "execution_count": 5,
   "metadata": {},
   "outputs": [
    {
     "name": "stdout",
     "output_type": "stream",
     "text": [
      "25455 16647\n",
      "1304 1383\n"
     ]
    }
   ],
   "source": [
    "img, sub = plot_img_and_subset(product, subset, output_bands1[1], figname='img_and_subset')\n",
    "\n",
    "width = 12\n",
    "height = 12\n",
    "plt.figure(figsize=(width, height))\n",
    "plt.imshow(img, cmap=plt.cm.binary, vmin=20, vmax=160)\n",
    "plt.axis('off')\n",
    "plt.savefig(\"figures/full_img\")\n",
    "\n",
    "plt.figure(figsize=(width, height))\n",
    "plt.imshow(sub, cmap=plt.cm.binary, vmin=20, vmax=160)\n",
    "plt.axis('off')\n",
    "plt.savefig(\"figures/subset_andalsnes\")"
   ]
  },
  {
   "cell_type": "code",
   "execution_count": 6,
   "metadata": {},
   "outputs": [
    {
     "name": "stdout",
     "output_type": "stream",
     "text": [
      "\n",
      "1304 1383\n",
      "100% done.\n"
     ]
    }
   ],
   "source": [
    "subset_O = pp.apply_orbit_file(subset)\n",
    "image_o = prepare_plot(subset_O, output_bands1[1])\n",
    "\n",
    "width = 12\n",
    "height = 12\n",
    "plt.figure(figsize=(width, height))\n",
    "plt.imshow(image_o, cmap=plt.cm.binary, vmin=20, vmax=160)\n",
    "plt.axis('off')\n",
    "plt.savefig(\"figures/andalsnes_o\")"
   ]
  },
  {
   "cell_type": "code",
   "execution_count": 7,
   "metadata": {},
   "outputs": [
    {
     "name": "stdout",
     "output_type": "stream",
     "text": [
      "1304 1383\n",
      "\n",
      "100% done.\n"
     ]
    }
   ],
   "source": [
    "subset_O_TNR = pp.apply_thermal_noise_removal(subset_O)\n",
    "image_o_tnr = prepare_plot(subset_O_TNR, output_bands2[1])\n",
    "\n",
    "width = 12\n",
    "height = 12\n",
    "plt.figure(figsize=(width, height))\n",
    "plt.imshow(image_o_tnr, cmap=plt.cm.binary, vmin=0.27, vmax=18471.83) \n",
    "plt.axis('off')\n",
    "plt.savefig(\"figures/andalsnes_O_TNR\")"
   ]
  },
  {
   "cell_type": "code",
   "execution_count": 8,
   "metadata": {},
   "outputs": [
    {
     "name": "stdout",
     "output_type": "stream",
     "text": [
      "\n",
      "1304 1383\n",
      "100% done.\n"
     ]
    }
   ],
   "source": [
    "subset_O_TNR_C = pp.calibrate(subset_O_TNR)\n",
    "image_o_tnr_c = prepare_plot(subset_O_TNR_C, output_bands3[1])\n",
    "\n",
    "width = 12\n",
    "height = 12\n",
    "plt.figure(figsize=(width, height))\n",
    "plt.imshow(image_o_tnr_c, cmap=plt.cm.binary, vmin=0.00, vmax=0.05) # 0.00, 0.05\n",
    "plt.axis('off')\n",
    "plt.savefig(\"figures/andalsnes_O_TNR_C\")"
   ]
  },
  {
   "cell_type": "code",
   "execution_count": 9,
   "metadata": {},
   "outputs": [
    {
     "name": "stdout",
     "output_type": "stream",
     "text": [
      "1304 1383\n",
      "\n",
      "100% done.\n"
     ]
    }
   ],
   "source": [
    "subset_O_TNR_C_S = pp.speckle_filter(subset_O_TNR_C)\n",
    "image_o_tnr_c_s = prepare_plot(subset_O_TNR_C_S, output_bands3[1])\n",
    "\n",
    "width = 12\n",
    "height = 12\n",
    "plt.figure(figsize=(width, height))\n",
    "plt.imshow(image_o_tnr_c_s, cmap=plt.cm.binary, vmin=0.00, vmax=0.05) # 0.00, 0.05\n",
    "plt.axis('off')\n",
    "plt.savefig(\"figures/andalsnes_O_TNR_C_S\")"
   ]
  },
  {
   "cell_type": "code",
   "execution_count": 25,
   "metadata": {},
   "outputs": [
    {
     "name": "stdout",
     "output_type": "stream",
     "text": [
      "3422 1589\n",
      "\n",
      "100% done.\n"
     ]
    },
    {
     "name": "stderr",
     "output_type": "stream",
     "text": [
      "SEVERE: com.sun.xml.bind.v2.util.XmlFactory: null\n",
      "org.xml.sax.SAXNotRecognizedException: Feature 'http://javax.xml.XMLConstants/feature/secure-processing' is not recognized.\n",
      "\tat org.apache.xerces.parsers.AbstractSAXParser.setFeature(Unknown Source)\n",
      "\tat org.apache.xerces.jaxp.SAXParserImpl.setFeatures(Unknown Source)\n",
      "\tat org.apache.xerces.jaxp.SAXParserImpl.<init>(Unknown Source)\n",
      "\tat org.apache.xerces.jaxp.SAXParserFactoryImpl.newSAXParserImpl(Unknown Source)\n",
      "\tat org.apache.xerces.jaxp.SAXParserFactoryImpl.setFeature(Unknown Source)\n",
      "\tat com.sun.xml.bind.v2.util.XmlFactory.createParserFactory(XmlFactory.java:106)\n",
      "\tat com.sun.xml.bind.v2.runtime.unmarshaller.UnmarshallerImpl.getXMLReader(UnmarshallerImpl.java:124)\n",
      "\tat javax.xml.bind.helpers.AbstractUnmarshallerImpl.unmarshal(AbstractUnmarshallerImpl.java:157)\n",
      "\tat javax.xml.bind.helpers.AbstractUnmarshallerImpl.unmarshal(AbstractUnmarshallerImpl.java:214)\n",
      "\tat it.geosolutions.imageioimpl.plugins.tiff.gdal.GDALMetadataParser.parse(GDALMetadataParser.java:60)\n",
      "\tat it.geosolutions.imageioimpl.plugins.tiff.TIFFImageReader.initializeFromMetadata(TIFFImageReader.java:1337)\n",
      "\tat it.geosolutions.imageioimpl.plugins.tiff.TIFFImageReader.seekToImage(TIFFImageReader.java:865)\n",
      "\tat it.geosolutions.imageioimpl.plugins.tiff.TIFFImageReader.seekToImage(TIFFImageReader.java:822)\n",
      "\tat it.geosolutions.imageioimpl.plugins.tiff.TIFFImageReader.getWidth(TIFFImageReader.java:1080)\n",
      "\tat org.esa.snap.dataio.geotiff.GeoTiffImageReader.getImageWidth(GeoTiffImageReader.java:160)\n",
      "\tat org.esa.snap.dataio.geotiff.GeoTiffProductReader.readProduct(GeoTiffProductReader.java:230)\n",
      "\tat org.esa.snap.dataio.geotiff.GeoTiffProductReader.readProductNodesImpl(GeoTiffProductReader.java:136)\n",
      "\tat org.esa.snap.core.dataio.AbstractProductReader.readProductNodes(AbstractProductReader.java:178)\n",
      "\tat org.esa.snap.engine_utilities.gpf.CommonReaders.read(CommonReaders.java:80)\n",
      "\tat org.esa.snap.engine_utilities.gpf.CommonReaders.readCommonProductReader(CommonReaders.java:59)\n",
      "\tat org.esa.snap.engine_utilities.gpf.CommonReaders.readProduct(CommonReaders.java:33)\n",
      "\tat org.esa.snap.dem.dataio.FileElevationModel.init(FileElevationModel.java:53)\n",
      "\tat org.esa.snap.dem.dataio.FileElevationModel.<init>(FileElevationModel.java:49)\n",
      "\tat org.esa.s1tbx.sar.gpf.geometric.RangeDopplerGeocodingOp.getElevationModel(RangeDopplerGeocodingOp.java:494)\n",
      "\tat org.esa.s1tbx.sar.gpf.geometric.RangeDopplerGeocodingOp.computeTileStack(RangeDopplerGeocodingOp.java:866)\n",
      "\tat org.esa.snap.core.gpf.internal.OperatorImageTileStack.computeRect(OperatorImageTileStack.java:122)\n",
      "\tat org.esa.snap.core.gpf.internal.OperatorImageTileStack.computeTile(OperatorImageTileStack.java:86)\n",
      "\tat com.sun.media.jai.util.SunTileScheduler.scheduleTile(Unknown Source)\n",
      "\tat javax.media.jai.OpImage.getTile(Unknown Source)\n",
      "\tat javax.media.jai.PlanarImage.cobbleFloat(Unknown Source)\n",
      "\tat javax.media.jai.PlanarImage.getData(Unknown Source)\n",
      "\tat com.bc.ceres.glevel.MultiLevelImage.getData(MultiLevelImage.java:64)\n",
      "\tat org.esa.snap.core.datamodel.Band.readRasterData(Band.java:309)\n",
      "\tat org.esa.snap.core.datamodel.AbstractBand.readSubRegionRasterData(AbstractBand.java:187)\n",
      "\tat org.esa.snap.core.datamodel.AbstractBand.readPixels(AbstractBand.java:401)\n",
      "\tat org.esa.snap.core.datamodel.RasterDataNode.readPixels(RasterDataNode.java:1403)\n",
      "\n"
     ]
    }
   ],
   "source": [
    "subset_O_TNR_C_S_TC = pp.terrain_correction(subset_O_TNR_C_S)\n",
    "image_o_tnr_c_s_tc = prepare_plot(subset_O_TNR_C_S_TC, output_bands3[1])\n",
    "\n",
    "width = 12\n",
    "height = 6\n",
    "plt.figure(figsize=(width, height))\n",
    "plt.imshow(image_o_tnr_c_s_tc, cmap=plt.cm.binary, vmin=0.00, vmax=0.07) # 0.00, 0.05\n",
    "plt.axis('off')\n",
    "plt.savefig(\"figures/andalsnes_O_TNR_C_S_TC\")"
   ]
  },
  {
   "cell_type": "code",
   "execution_count": 26,
   "metadata": {},
   "outputs": [
    {
     "name": "stderr",
     "output_type": "stream",
     "text": [
      "SEVERE: com.sun.xml.bind.v2.util.XmlFactory: null\n",
      "org.xml.sax.SAXNotRecognizedException: Feature 'http://javax.xml.XMLConstants/feature/secure-processing' is not recognized.\n",
      "\tat org.apache.xerces.parsers.AbstractSAXParser.setFeature(Unknown Source)\n",
      "\tat org.apache.xerces.jaxp.SAXParserImpl.setFeatures(Unknown Source)\n",
      "\tat org.apache.xerces.jaxp.SAXParserImpl.<init>(Unknown Source)\n",
      "\tat org.apache.xerces.jaxp.SAXParserFactoryImpl.newSAXParserImpl(Unknown Source)\n",
      "\tat org.apache.xerces.jaxp.SAXParserFactoryImpl.setFeature(Unknown Source)\n",
      "\tat com.sun.xml.bind.v2.util.XmlFactory.createParserFactory(XmlFactory.java:106)\n",
      "\tat com.sun.xml.bind.v2.runtime.unmarshaller.UnmarshallerImpl.getXMLReader(UnmarshallerImpl.java:124)\n",
      "\tat javax.xml.bind.helpers.AbstractUnmarshallerImpl.unmarshal(AbstractUnmarshallerImpl.java:157)\n",
      "\tat javax.xml.bind.helpers.AbstractUnmarshallerImpl.unmarshal(AbstractUnmarshallerImpl.java:214)\n",
      "\tat it.geosolutions.imageioimpl.plugins.tiff.gdal.GDALMetadataParser.parse(GDALMetadataParser.java:60)\n",
      "\tat it.geosolutions.imageioimpl.plugins.tiff.TIFFImageReader.initializeFromMetadata(TIFFImageReader.java:1337)\n",
      "\tat it.geosolutions.imageioimpl.plugins.tiff.TIFFImageReader.seekToImage(TIFFImageReader.java:865)\n",
      "\tat it.geosolutions.imageioimpl.plugins.tiff.TIFFImageReader.seekToImage(TIFFImageReader.java:822)\n",
      "\tat it.geosolutions.imageioimpl.plugins.tiff.TIFFImageReader.getWidth(TIFFImageReader.java:1080)\n",
      "\tat org.esa.snap.dataio.geotiff.GeoTiffImageReader.getImageWidth(GeoTiffImageReader.java:160)\n",
      "\tat org.esa.snap.dataio.geotiff.GeoTiffProductReader.readProduct(GeoTiffProductReader.java:230)\n",
      "\tat org.esa.snap.dataio.geotiff.GeoTiffProductReader.readProductNodesImpl(GeoTiffProductReader.java:136)\n",
      "\tat org.esa.snap.core.dataio.AbstractProductReader.readProductNodes(AbstractProductReader.java:178)\n",
      "\tat org.esa.snap.engine_utilities.gpf.CommonReaders.read(CommonReaders.java:80)\n",
      "\tat org.esa.snap.engine_utilities.gpf.CommonReaders.readCommonProductReader(CommonReaders.java:59)\n",
      "\tat org.esa.snap.engine_utilities.gpf.CommonReaders.readProduct(CommonReaders.java:33)\n",
      "\tat org.esa.snap.dem.dataio.FileElevationModel.init(FileElevationModel.java:53)\n",
      "\tat org.esa.snap.dem.dataio.FileElevationModel.<init>(FileElevationModel.java:49)\n",
      "\tat org.esa.snap.dem.gpf.AddElevationOp.initElevationModel(AddElevationOp.java:214)\n",
      "\tat org.esa.snap.dem.gpf.AddElevationOp.doExecute(AddElevationOp.java:116)\n",
      "\tat org.esa.snap.core.gpf.internal.OperatorContext.executeOperator(OperatorContext.java:1300)\n",
      "\tat org.esa.snap.core.gpf.Operator.execute(Operator.java:153)\n",
      "\tat org.esa.snap.core.gpf.GPF.lambda$new$1(GPF.java:125)\n",
      "\tat org.esa.snap.core.gpf.GPF.executeOperator(GPF.java:345)\n",
      "\tat org.esa.snap.core.gpf.GPF.createProductNS(GPF.java:334)\n",
      "\tat org.esa.snap.core.gpf.GPF.createProduct(GPF.java:268)\n",
      "\tat org.esa.snap.core.gpf.GPF.createProduct(GPF.java:201)\n",
      "\tat org.esa.snap.core.gpf.GPF.createProduct(GPF.java:180)\n",
      "\n",
      "Warning 1: TIFFReadDirectory:Sum of Photometric type-related color channels and ExtraSamples doesn't match SamplesPerPixel. Defining non-color channels as ExtraSamples.\n"
     ]
    },
    {
     "name": "stdout",
     "output_type": "stream",
     "text": [
      "Initializing Elevation Model\n",
      "100% done.\n",
      "3422 1589\n"
     ]
    }
   ],
   "source": [
    "complete_subset = pp.add_elevation_band(subset_O_TNR_C_S_TC)\n",
    "pp.save_product(complete_subset,'testing_subset','/localhome/studenter/renatask/Project/figures/')\n",
    "pp.clip_raster('/localhome/studenter/renatask/Project/figures/testing_subset.tif',shp_path,\\\n",
    "    '/localhome/studenter/renatask/Project/figures/','clipped_subset')\n",
    "image_o_tnr_c_s_tc_e = prepare_plot(complete_subset, output_bands3[1])\n",
    "\n",
    "width = 12\n",
    "height = 6\n",
    "plt.figure(figsize=(width, height))\n",
    "plt.imshow(image_o_tnr_c_s_tc_e, cmap=plt.cm.binary, vmin=0.00, vmax=0.07) # 0.00, 0.05\n",
    "plt.axis('off')\n",
    "plt.savefig(\"figures/andalsnes_O_TNR_C_S_TC_E\")"
   ]
  },
  {
   "cell_type": "code",
   "execution_count": 12,
   "metadata": {},
   "outputs": [
    {
     "name": "stdout",
     "output_type": "stream",
     "text": [
      "\n"
     ]
    },
    {
     "name": "stderr",
     "output_type": "stream",
     "text": [
      "SEVERE: com.sun.xml.bind.v2.util.XmlFactory: null\n",
      "org.xml.sax.SAXNotRecognizedException: Feature 'http://javax.xml.XMLConstants/feature/secure-processing' is not recognized.\n",
      "\tat org.apache.xerces.parsers.AbstractSAXParser.setFeature(Unknown Source)\n",
      "\tat org.apache.xerces.jaxp.SAXParserImpl.setFeatures(Unknown Source)\n",
      "\tat org.apache.xerces.jaxp.SAXParserImpl.<init>(Unknown Source)\n",
      "\tat org.apache.xerces.jaxp.SAXParserFactoryImpl.newSAXParserImpl(Unknown Source)\n",
      "\tat org.apache.xerces.jaxp.SAXParserFactoryImpl.setFeature(Unknown Source)\n",
      "\tat com.sun.xml.bind.v2.util.XmlFactory.createParserFactory(XmlFactory.java:106)\n",
      "\tat com.sun.xml.bind.v2.runtime.unmarshaller.UnmarshallerImpl.getXMLReader(UnmarshallerImpl.java:124)\n",
      "\tat javax.xml.bind.helpers.AbstractUnmarshallerImpl.unmarshal(AbstractUnmarshallerImpl.java:157)\n",
      "\tat javax.xml.bind.helpers.AbstractUnmarshallerImpl.unmarshal(AbstractUnmarshallerImpl.java:214)\n",
      "\tat it.geosolutions.imageioimpl.plugins.tiff.gdal.GDALMetadataParser.parse(GDALMetadataParser.java:60)\n",
      "\tat it.geosolutions.imageioimpl.plugins.tiff.TIFFImageReader.initializeFromMetadata(TIFFImageReader.java:1337)\n",
      "\tat it.geosolutions.imageioimpl.plugins.tiff.TIFFImageReader.seekToImage(TIFFImageReader.java:865)\n",
      "\tat it.geosolutions.imageioimpl.plugins.tiff.TIFFImageReader.seekToImage(TIFFImageReader.java:822)\n",
      "\tat it.geosolutions.imageioimpl.plugins.tiff.TIFFImageReader.getWidth(TIFFImageReader.java:1080)\n",
      "\tat org.esa.snap.dataio.geotiff.GeoTiffImageReader.getImageWidth(GeoTiffImageReader.java:160)\n",
      "\tat org.esa.snap.dataio.geotiff.GeoTiffProductReader.readProduct(GeoTiffProductReader.java:230)\n",
      "\tat org.esa.snap.dataio.geotiff.GeoTiffProductReader.readProductNodesImpl(GeoTiffProductReader.java:136)\n",
      "\tat org.esa.snap.core.dataio.AbstractProductReader.readProductNodes(AbstractProductReader.java:178)\n",
      "\tat org.esa.snap.engine_utilities.gpf.CommonReaders.read(CommonReaders.java:80)\n",
      "\tat org.esa.snap.engine_utilities.gpf.CommonReaders.readCommonProductReader(CommonReaders.java:59)\n",
      "\tat org.esa.snap.engine_utilities.gpf.CommonReaders.readProduct(CommonReaders.java:33)\n",
      "\tat org.esa.snap.dem.dataio.FileElevationModel.init(FileElevationModel.java:53)\n",
      "\tat org.esa.snap.dem.dataio.FileElevationModel.<init>(FileElevationModel.java:49)\n",
      "\tat org.esa.snap.dem.gpf.AddElevationOp.initElevationModel(AddElevationOp.java:214)\n",
      "\tat org.esa.snap.dem.gpf.AddElevationOp.doExecute(AddElevationOp.java:116)\n",
      "\tat org.esa.snap.core.gpf.internal.OperatorContext.executeOperator(OperatorContext.java:1300)\n",
      "\tat org.esa.snap.core.gpf.Operator.execute(Operator.java:153)\n",
      "\tat org.esa.snap.core.gpf.GPF.lambda$new$1(GPF.java:125)\n",
      "\tat org.esa.snap.core.gpf.GPF.executeOperator(GPF.java:345)\n",
      "\tat org.esa.snap.core.gpf.GPF.createProductNS(GPF.java:334)\n",
      "\tat org.esa.snap.core.gpf.GPF.createProduct(GPF.java:268)\n",
      "\tat org.esa.snap.core.gpf.GPF.createProduct(GPF.java:201)\n",
      "\tat org.esa.snap.core.gpf.GPF.createProduct(GPF.java:180)\n",
      "\n",
      "SEVERE: com.sun.xml.bind.v2.util.XmlFactory: null\n",
      "org.xml.sax.SAXNotRecognizedException: Feature 'http://javax.xml.XMLConstants/feature/secure-processing' is not recognized.\n",
      "\tat org.apache.xerces.parsers.AbstractSAXParser.setFeature(Unknown Source)\n",
      "\tat org.apache.xerces.jaxp.SAXParserImpl.setFeatures(Unknown Source)\n",
      "\tat org.apache.xerces.jaxp.SAXParserImpl.<init>(Unknown Source)\n",
      "\tat org.apache.xerces.jaxp.SAXParserFactoryImpl.newSAXParserImpl(Unknown Source)\n",
      "\tat org.apache.xerces.jaxp.SAXParserFactoryImpl.setFeature(Unknown Source)\n",
      "\tat com.sun.xml.bind.v2.util.XmlFactory.createParserFactory(XmlFactory.java:106)\n",
      "\tat com.sun.xml.bind.v2.runtime.unmarshaller.UnmarshallerImpl.getXMLReader(UnmarshallerImpl.java:124)\n",
      "\tat javax.xml.bind.helpers.AbstractUnmarshallerImpl.unmarshal(AbstractUnmarshallerImpl.java:157)\n",
      "\tat javax.xml.bind.helpers.AbstractUnmarshallerImpl.unmarshal(AbstractUnmarshallerImpl.java:214)\n",
      "\tat it.geosolutions.imageioimpl.plugins.tiff.gdal.GDALMetadataParser.parse(GDALMetadataParser.java:60)\n",
      "\tat it.geosolutions.imageioimpl.plugins.tiff.TIFFImageReader.initializeFromMetadata(TIFFImageReader.java:1337)\n",
      "\tat it.geosolutions.imageioimpl.plugins.tiff.TIFFImageReader.seekToImage(TIFFImageReader.java:865)\n",
      "\tat it.geosolutions.imageioimpl.plugins.tiff.TIFFImageReader.seekToImage(TIFFImageReader.java:822)\n",
      "\tat it.geosolutions.imageioimpl.plugins.tiff.TIFFImageReader.getWidth(TIFFImageReader.java:1080)\n",
      "\tat org.esa.snap.dataio.geotiff.GeoTiffImageReader.getImageWidth(GeoTiffImageReader.java:160)\n",
      "\tat org.esa.snap.dataio.geotiff.GeoTiffProductReader.readProduct(GeoTiffProductReader.java:230)\n",
      "\tat org.esa.snap.dataio.geotiff.GeoTiffProductReader.readProductNodesImpl(GeoTiffProductReader.java:136)\n",
      "\tat org.esa.snap.core.dataio.AbstractProductReader.readProductNodes(AbstractProductReader.java:178)\n",
      "\tat org.esa.snap.engine_utilities.gpf.CommonReaders.read(CommonReaders.java:80)\n",
      "\tat org.esa.snap.engine_utilities.gpf.CommonReaders.readCommonProductReader(CommonReaders.java:59)\n",
      "\tat org.esa.snap.engine_utilities.gpf.CommonReaders.readProduct(CommonReaders.java:33)\n",
      "\tat org.esa.snap.dem.dataio.FileElevationModel.init(FileElevationModel.java:53)\n",
      "\tat org.esa.snap.dem.dataio.FileElevationModel.<init>(FileElevationModel.java:49)\n",
      "\tat org.esa.s1tbx.sar.gpf.geometric.RangeDopplerGeocodingOp.getElevationModel(RangeDopplerGeocodingOp.java:494)\n",
      "\tat org.esa.s1tbx.sar.gpf.geometric.RangeDopplerGeocodingOp.computeTileStack(RangeDopplerGeocodingOp.java:866)\n",
      "\tat org.esa.snap.core.gpf.internal.OperatorImageTileStack.computeRect(OperatorImageTileStack.java:122)\n",
      "\tat org.esa.snap.core.gpf.internal.OperatorImageTileStack.computeTile(OperatorImageTileStack.java:86)\n",
      "\tat com.sun.media.jai.util.SunTileScheduler.scheduleTile(Unknown Source)\n",
      "\tat javax.media.jai.OpImage.getTile(Unknown Source)\n",
      "\tat javax.media.jai.PlanarImage.getData(Unknown Source)\n",
      "\tat com.bc.ceres.glevel.MultiLevelImage.getData(MultiLevelImage.java:64)\n",
      "\tat org.esa.snap.core.dataio.ProductIO.writeTile(ProductIO.java:608)\n",
      "\tat org.esa.snap.core.dataio.ProductIO.lambda$writeRasterDataFully$0(ProductIO.java:584)\n",
      "\tat java.util.concurrent.ThreadPoolExecutor.runWorker(ThreadPoolExecutor.java:1149)\n",
      "\tat java.util.concurrent.ThreadPoolExecutor$Worker.run(ThreadPoolExecutor.java:624)\n",
      "\tat java.lang.Thread.run(Thread.java:748)\n",
      "\n"
     ]
    },
    {
     "name": "stdout",
     "output_type": "stream",
     "text": [
      "100% done.\n",
      "\n",
      "100% done.\n",
      "\n",
      "100% done.\n",
      "\n",
      "100% done.\n",
      "\n",
      "100% done.\n",
      "Initializing Elevation Model\n",
      "100% done.\n"
     ]
    },
    {
     "ename": "KeyboardInterrupt",
     "evalue": "",
     "output_type": "error",
     "traceback": [
      "\u001b[0;31m---------------------------------------------------------------------------\u001b[0m",
      "\u001b[0;31mKeyboardInterrupt\u001b[0m                         Traceback (most recent call last)",
      "\u001b[1;32m/localhome/studenter/renatask/Project/figures.ipynb Cell 12'\u001b[0m in \u001b[0;36m<module>\u001b[0;34m\u001b[0m\n\u001b[1;32m      <a href='vscode-notebook-cell://ssh-remote%2Baulus6.ies.ntnu.no/localhome/studenter/renatask/Project/figures.ipynb#ch0000004vscode-remote?line=4'>5</a>\u001b[0m subset_O_TNR_C_S_TC \u001b[39m=\u001b[39m pp\u001b[39m.\u001b[39mterrain_correction(subset_O_TNR_C_S)\n\u001b[1;32m      <a href='vscode-notebook-cell://ssh-remote%2Baulus6.ies.ntnu.no/localhome/studenter/renatask/Project/figures.ipynb#ch0000004vscode-remote?line=5'>6</a>\u001b[0m complete_subset \u001b[39m=\u001b[39m pp\u001b[39m.\u001b[39madd_elevation_band(subset_O_TNR_C_S_TC)\n\u001b[0;32m----> <a href='vscode-notebook-cell://ssh-remote%2Baulus6.ies.ntnu.no/localhome/studenter/renatask/Project/figures.ipynb#ch0000004vscode-remote?line=6'>7</a>\u001b[0m pp\u001b[39m.\u001b[39;49msave_product(complete_subset,\u001b[39m'\u001b[39;49m\u001b[39mtesting_subset\u001b[39;49m\u001b[39m'\u001b[39;49m,\u001b[39m'\u001b[39;49m\u001b[39m/localhome/studenter/renatask/Project/figures\u001b[39;49m\u001b[39m'\u001b[39;49m)\n\u001b[1;32m      <a href='vscode-notebook-cell://ssh-remote%2Baulus6.ies.ntnu.no/localhome/studenter/renatask/Project/figures.ipynb#ch0000004vscode-remote?line=7'>8</a>\u001b[0m pp\u001b[39m.\u001b[39mclip_raster(\u001b[39m'\u001b[39m\u001b[39m/localhome/studenter/renatask/Project/figures/testing_subset.tif\u001b[39m\u001b[39m'\u001b[39m,shp_path,\\\n\u001b[1;32m      <a href='vscode-notebook-cell://ssh-remote%2Baulus6.ies.ntnu.no/localhome/studenter/renatask/Project/figures.ipynb#ch0000004vscode-remote?line=8'>9</a>\u001b[0m     \u001b[39m'\u001b[39m\u001b[39m/localhome/studenter/renatask/Project/figures\u001b[39m\u001b[39m'\u001b[39m,\u001b[39m'\u001b[39m\u001b[39mclipped_subset\u001b[39m\u001b[39m'\u001b[39m)\n",
      "File \u001b[0;32m/localhome/studenter/renatask/Project/data/preprocess_functions.py:165\u001b[0m, in \u001b[0;36mPreprocess.save_product\u001b[0;34m(self, product, name, path, type)\u001b[0m\n\u001b[1;32m    <a href='file:///localhome/studenter/renatask/Project/data/preprocess_functions.py?line=162'>163</a>\u001b[0m \u001b[39mdef\u001b[39;00m \u001b[39msave_product\u001b[39m(\u001b[39mself\u001b[39m, product, name, path, \u001b[39mtype\u001b[39m\u001b[39m=\u001b[39m\u001b[39m\"\u001b[39m\u001b[39mGeoTIFF\u001b[39m\u001b[39m\"\u001b[39m):\n\u001b[1;32m    <a href='file:///localhome/studenter/renatask/Project/data/preprocess_functions.py?line=163'>164</a>\u001b[0m     \u001b[39m\"\"\" Type = \"BEAM-DIMAP\" for snap, else \"GeoTIFF\" \"\"\"\u001b[39;00m\n\u001b[0;32m--> <a href='file:///localhome/studenter/renatask/Project/data/preprocess_functions.py?line=164'>165</a>\u001b[0m     ProductIO\u001b[39m.\u001b[39;49mwriteProduct(product, path\u001b[39m+\u001b[39;49mname, \u001b[39mtype\u001b[39;49m)\n",
      "\u001b[0;31mKeyboardInterrupt\u001b[0m: "
     ]
    }
   ],
   "source": [
    "subset_O = pp.apply_orbit_file(subset)\n",
    "subset_O_TNR = pp.apply_thermal_noise_removal(subset_O)\n",
    "subset_O_TNR_C = pp.calibrate(subset_O_TNR)\n",
    "subset_O_TNR_C_S = pp.speckle_filter(subset_O_TNR_C)\n",
    "subset_O_TNR_C_S_TC = pp.terrain_correction(subset_O_TNR_C_S)\n",
    "complete_subset = pp.add_elevation_band(subset_O_TNR_C_S_TC)\n",
    "pp.save_product(complete_subset,'testing_subset','/localhome/studenter/renatask/Project/figures')\n",
    "pp.clip_raster('/localhome/studenter/renatask/Project/figures/testing_subset.tif',shp_path,\\\n",
    "    '/localhome/studenter/renatask/Project/figures','clipped_subset')"
   ]
  },
  {
   "cell_type": "code",
   "execution_count": 27,
   "metadata": {},
   "outputs": [
    {
     "name": "stdout",
     "output_type": "stream",
     "text": [
      "{'driver': 'GTiff', 'dtype': 'float32', 'nodata': None, 'width': 2364, 'height': 1231, 'count': 3, 'crs': CRS.from_epsg(4326), 'transform': Affine(8.983152841195228e-05, 0.0, 7.65214566024803,\n",
      "       0.0, -8.983152841194827e-05, 62.608370592775444), 'tiled': False, 'interleave': 'pixel'}\n",
      "This is the crs:  EPSG:4326\n",
      "This is the origin and resolution data:  | 0.00, 0.00, 7.65|\n",
      "| 0.00,-0.00, 62.61|\n",
      "| 0.00, 0.00, 1.00|\n",
      "This is the datatype of the raster:  float32\n",
      "This is how many bands are in the raster 3\n"
     ]
    }
   ],
   "source": [
    "with rasterio.open('/localhome/studenter/renatask/Project/figures/clipped_subset.tif') as ds: \n",
    "    backscatter = ds.read() \n",
    "    backscatter_profile = ds.profile\n",
    "\n",
    "print(backscatter_profile)\n",
    "print('This is the crs: ', backscatter_profile['crs'])\n",
    "print('This is the origin and resolution data: ', backscatter_profile['transform'])\n",
    "print('This is the datatype of the raster: ', backscatter_profile['dtype'])\n",
    "print('This is how many bands are in the raster', backscatter_profile['count'])"
   ]
  },
  {
   "cell_type": "code",
   "execution_count": 30,
   "metadata": {},
   "outputs": [],
   "source": [
    "image = np.rollaxis(backscatter,0,3)\n",
    "\n",
    "width = 10\n",
    "height = 6\n",
    "plt.figure(figsize=(width, height))\n",
    "plt.imshow(image[:,:,0], cmap=plt.cm.binary, vmin=0.00, vmax=0.28) # 0.00, 0.28\n",
    "plt.axis('off')\n",
    "plt.savefig(\"figures/andalsnes_final_VV\")\n",
    "\n",
    "width = 10\n",
    "height =6\n",
    "plt.figure(figsize=(width, height))\n",
    "plt.imshow(image[:,:,1], cmap=plt.cm.binary, vmin=0.00, vmax=0.07) # 0.00, 0.07\n",
    "plt.axis('off')\n",
    "plt.savefig(\"figures/andalsnes_final_VH\")\n",
    "\n",
    "width = 10\n",
    "height = 6\n",
    "plt.figure(figsize=(width, height))\n",
    "plt.imshow(image[:,:,2], cmap=plt.cm.binary, vmin=0.00, vmax=1000) # 0.00, 0.07\n",
    "plt.axis('off')\n",
    "plt.savefig(\"figures/andalsnes_final_E\")"
   ]
  },
  {
   "cell_type": "code",
   "execution_count": null,
   "metadata": {},
   "outputs": [],
   "source": []
  },
  {
   "cell_type": "code",
   "execution_count": null,
   "metadata": {},
   "outputs": [],
   "source": []
  }
 ],
 "metadata": {
  "interpreter": {
   "hash": "48db88f1ebb28dacc274e5700a5b5df73d50efc7070be719e0a56543b127086a"
  },
  "kernelspec": {
   "display_name": "Python 3.9.7 64-bit ('3.9.7': pyenv)",
   "language": "python",
   "name": "python3"
  },
  "language_info": {
   "codemirror_mode": {
    "name": "ipython",
    "version": 3
   },
   "file_extension": ".py",
   "mimetype": "text/x-python",
   "name": "python",
   "nbconvert_exporter": "python",
   "pygments_lexer": "ipython3",
   "version": "3.9.7"
  },
  "orig_nbformat": 4
 },
 "nbformat": 4,
 "nbformat_minor": 2
}
