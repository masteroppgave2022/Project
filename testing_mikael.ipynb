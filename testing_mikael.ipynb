{
 "cells": [
  {
   "cell_type": "code",
   "execution_count": 2,
   "metadata": {},
   "outputs": [
    {
     "name": "stdout",
     "output_type": "stream",
     "text": [
      "Segmentation Models: using `keras` framework.\n"
     ]
    },
    {
     "name": "stderr",
     "output_type": "stream",
     "text": [
      "2022-04-27 18:15:27.036495: I tensorflow/stream_executor/cuda/cuda_gpu_executor.cc:939] successful NUMA node read from SysFS had negative value (-1), but there must be at least one NUMA node, so returning NUMA node zero\n",
      "2022-04-27 18:15:27.064305: I tensorflow/stream_executor/cuda/cuda_gpu_executor.cc:939] successful NUMA node read from SysFS had negative value (-1), but there must be at least one NUMA node, so returning NUMA node zero\n",
      "2022-04-27 18:15:27.064948: I tensorflow/stream_executor/cuda/cuda_gpu_executor.cc:939] successful NUMA node read from SysFS had negative value (-1), but there must be at least one NUMA node, so returning NUMA node zero\n"
     ]
    }
   ],
   "source": [
    "\"\"\" Import dependencies \"\"\"\n",
    "import os\n",
    "import keras\n",
    "import numpy as np\n",
    "from sklearn import metrics\n",
    "from ML.ml_utils import ML_utils, CustomLoss\n",
    "import matplotlib\n",
    "import tensorflow\n",
    "from matplotlib import pyplot as plt\n",
    "\n",
    "%matplotlib inline"
   ]
  },
  {
   "cell_type": "code",
   "execution_count": 3,
   "metadata": {},
   "outputs": [],
   "source": [
    "\"\"\" User defined parameters \"\"\"\n",
    "matplotlib.use('agg')\n",
    "plt.ioff()\n",
    "dataset_name = 'data_medium'\n",
    "path_to_model = '/localhome/studenter/renatask/Project/ML/models/Deeplab_mini'\n",
    "model_name = os.path.split(path_to_model)[1] + '/'\n",
    "save_path_image_predictions = '/localhome/studenter/renatask/Project/ML/predicted_images/'"
   ]
  },
  {
   "cell_type": "code",
   "execution_count": 4,
   "metadata": {},
   "outputs": [
    {
     "name": "stderr",
     "output_type": "stream",
     "text": [
      "2022-04-27 18:15:33.825688: I tensorflow/core/platform/cpu_feature_guard.cc:151] This TensorFlow binary is optimized with oneAPI Deep Neural Network Library (oneDNN) to use the following CPU instructions in performance-critical operations:  AVX2 FMA\n",
      "To enable them in other operations, rebuild TensorFlow with the appropriate compiler flags.\n",
      "2022-04-27 18:15:33.826925: I tensorflow/stream_executor/cuda/cuda_gpu_executor.cc:939] successful NUMA node read from SysFS had negative value (-1), but there must be at least one NUMA node, so returning NUMA node zero\n",
      "2022-04-27 18:15:33.827581: I tensorflow/stream_executor/cuda/cuda_gpu_executor.cc:939] successful NUMA node read from SysFS had negative value (-1), but there must be at least one NUMA node, so returning NUMA node zero\n",
      "2022-04-27 18:15:33.828152: I tensorflow/stream_executor/cuda/cuda_gpu_executor.cc:939] successful NUMA node read from SysFS had negative value (-1), but there must be at least one NUMA node, so returning NUMA node zero\n",
      "2022-04-27 18:15:34.161018: I tensorflow/stream_executor/cuda/cuda_gpu_executor.cc:939] successful NUMA node read from SysFS had negative value (-1), but there must be at least one NUMA node, so returning NUMA node zero\n",
      "2022-04-27 18:15:34.161611: I tensorflow/stream_executor/cuda/cuda_gpu_executor.cc:939] successful NUMA node read from SysFS had negative value (-1), but there must be at least one NUMA node, so returning NUMA node zero\n",
      "2022-04-27 18:15:34.162171: I tensorflow/stream_executor/cuda/cuda_gpu_executor.cc:939] successful NUMA node read from SysFS had negative value (-1), but there must be at least one NUMA node, so returning NUMA node zero\n",
      "2022-04-27 18:15:34.162706: I tensorflow/core/common_runtime/gpu/gpu_device.cc:1525] Created device /job:localhost/replica:0/task:0/device:GPU:0 with 17753 MB memory:  -> device: 0, name: NVIDIA GeForce RTX 3090, pci bus id: 0000:49:00.0, compute capability: 8.6\n"
     ]
    }
   ],
   "source": [
    "\"\"\" Load model \"\"\"\n",
    "ml = ML_utils(user='renatask')\n",
    "model = keras.models.load_model(path_to_model, custom_objects={'call':CustomLoss.call})\n",
    "4\n",
    "\"\"\" Define test image paths \"\"\"\n",
    "path_to_images = \"data/datasets/\" + dataset_name + \"/test/images\"\n",
    "path_to_masks = \"data/datasets/\" + dataset_name + \"/test/masks\"\n",
    "\n",
    "\"\"\" Define classes \"\"\"\n",
    "classes = {\n",
    "    0: 'not_water',\n",
    "    1: 'water'\n",
    "}"
   ]
  },
  {
   "cell_type": "code",
   "execution_count": 5,
   "metadata": {},
   "outputs": [
    {
     "name": "stderr",
     "output_type": "stream",
     "text": [
      "2022-04-27 18:15:52.171310: I tensorflow/stream_executor/cuda/cuda_dnn.cc:366] Loaded cuDNN version 8301\n",
      "2022-04-27 18:15:52.924958: W tensorflow/stream_executor/gpu/asm_compiler.cc:111] *** WARNING *** You are using ptxas 10.1.243, which is older than 11.1. ptxas before 11.1 is known to miscompile XLA code, leading to incorrect results or invalid-address errors.\n",
      "\n",
      "You may not need to update to CUDA 11.1; cherry-picking the ptxas binary is often sufficient.\n",
      "2022-04-27 18:15:52.944756: W tensorflow/stream_executor/gpu/asm_compiler.cc:230] Falling back to the CUDA driver for PTX compilation; ptxas does not support CC 8.6\n",
      "2022-04-27 18:15:52.944788: W tensorflow/stream_executor/gpu/asm_compiler.cc:233] Used ptxas at ptxas\n",
      "2022-04-27 18:15:52.944899: W tensorflow/stream_executor/gpu/redzone_allocator.cc:314] UNIMPLEMENTED: ptxas ptxas too old. Falling back to the driver to compile.\n",
      "Relying on driver to perform ptx compilation. \n",
      "Modify $PATH to customize ptxas location.\n",
      "This message will be only logged once.\n"
     ]
    }
   ],
   "source": [
    "\"\"\" Produce images \"\"\"\n",
    "n_images = len([img for img in os.listdir(path_to_images) if not img.startswith('.')])\n",
    "test_data_generator = ml.DataGenerator(path_to_images,path_to_masks,train=False)\n",
    "n_classes = len(classes)\n",
    "predict_batch = 32\n",
    "n_batch = n_images // 32\n",
    "if not n_images % 32 == 0: n_batch += 1\n",
    "images = []\n",
    "predictions = []\n",
    "segmentations = []\n",
    "\n",
    "\"\"\" Predict images \"\"\"\n",
    "for batch in range(0,n_batch):\n",
    "    imgs, masks = next(test_data_generator)\n",
    "    for i in range(0, len(imgs)):\n",
    "        img = np.expand_dims(imgs[i],axis=0)\n",
    "        images.append(imgs[i])\n",
    "        predictions.append(model.predict(img))\n",
    "        segmentations.append(masks[i])"
   ]
  },
  {
   "cell_type": "code",
   "execution_count": 6,
   "metadata": {},
   "outputs": [],
   "source": [
    "\"\"\" Set predictions to maximum value (single-band) \"\"\"\n",
    "for i in range(len(predictions)):\n",
    "    predictions[i] = np.argmax(predictions[i],axis=-1)\n",
    "    segmentations[i] = np.argmax(segmentations[i],axis=-1)"
   ]
  },
  {
   "cell_type": "code",
   "execution_count": 7,
   "metadata": {},
   "outputs": [
    {
     "name": "stderr",
     "output_type": "stream",
     "text": [
      "/tmp/ipykernel_2453998/2856699180.py:8: RuntimeWarning: More than 20 figures have been opened. Figures created through the pyplot interface (`matplotlib.pyplot.figure`) are retained until explicitly closed and may consume too much memory. (To control this warning, see the rcParam `figure.max_open_warning`).\n",
      "  fig, axs = plt.subplots(1,3,figsize=(25,25))\n"
     ]
    }
   ],
   "source": [
    "\"\"\" Save predicted images for visualization \"\"\"\n",
    "if not os.path.exists(save_path_image_predictions + model_name):\n",
    "    os.makedirs(save_path_image_predictions + model_name)\n",
    "\n",
    "count = 0\n",
    "for img, pred, mask in zip(images,predictions,segmentations):\n",
    "    pred = np.rollaxis(pred,0,3)\n",
    "    fig, axs = plt.subplots(1,3,figsize=(25,25))\n",
    "    plt.tight_layout()\n",
    "\n",
    "    axs[0].imshow(img[:,:,0],cmap='PuBuGn_r')\n",
    "    axs[1].imshow(pred)\n",
    "    axs[2].imshow(mask)\n",
    "\n",
    "    axs[0].set_title(\"Original Image\")\n",
    "    axs[1].set_title(\"Prediction\")\n",
    "    axs[2].set_title(\"Ground Truth\")\n",
    "\n",
    "    plt.savefig(save_path_image_predictions + model_name + str(count) + '.png')\n",
    "    count += 1"
   ]
  },
  {
   "cell_type": "code",
   "execution_count": 8,
   "metadata": {},
   "outputs": [
    {
     "name": "stdout",
     "output_type": "stream",
     "text": [
      "[INFO] Flattening all numpy arrays... this may take a couple of minutes.\n",
      "[INFO] Calculating precision/recall...\n",
      "Precision: 0.9843223022569684\n",
      "Recall: 0.9845417952585425\n",
      "F1-Score: 0.9844320365229908\n",
      "Confusion matrix: \n",
      " [[ 28454219   5519086]\n",
      " [  1022015 388152200]]\n"
     ]
    }
   ],
   "source": [
    "\"\"\" Calculate performance \"\"\"\n",
    "# Flatten arrays\n",
    "print(\"[INFO] Flattening all numpy arrays... this may take a couple of minutes.\")\n",
    "predictions = np.concatenate([np_array.ravel() for np_array in predictions])\n",
    "segmentations = np.concatenate([np_array.ravel() for np_array in segmentations])\n",
    "\n",
    "print(\"[INFO] Calculating precision/recall...\")\n",
    "precision = metrics.precision_score(segmentations, predictions, average='weighted')\n",
    "recall = metrics.recall_score(segmentations, predictions, average='weighted')\n",
    "\n",
    "print(f\"Precision: {precision}\")\n",
    "print(f\"Recall: {recall}\")\n",
    "print(f\"F1-Score: {(2*precision*recall)/(recall+precision)}\")\n",
    "print(f\"Confusion matrix: \\n {metrics.confusion_matrix(segmentations, predictions)}\")"
   ]
  },
  {
   "cell_type": "code",
   "execution_count": 14,
   "metadata": {},
   "outputs": [],
   "source": [
    "\"\"\" Remove this cell \"\"\"\n",
    "import rasterio\n",
    "from skimage import exposure\n",
    "\n",
    "image_path = '/localhome/studenter/renatask/Project/data/processed_downloads/gaula_melhus_S1A_IW_GRDH_1SDV_20190907T165510.tif'\n",
    "img_name = 'gaula_melhus_S1A_IW_GRDH_1SDV_20190907T16551'\n",
    "mask_path = '/localhome/studenter/renatask/Project/data/processed_masks/gaula_melhus.tif'\n",
    "\n",
    "image, mask = rasterio.open(image_path).read(), rasterio.open(mask_path).read()\n",
    "image = np.rollaxis(image,0,3)\n",
    "mask = np.rollaxis(mask,0,3)\n",
    "bands = image.shape[-1]\n",
    "\n",
    "rescaled_image = np.zeros(image.shape,dtype=\"float32\")\n",
    "for b in range(bands):\n",
    "    p2 = np.percentile(image[:,:,b],2)\n",
    "    p98 = np.percentile(image[:,:,b],98)\n",
    "    rescaled_band = exposure.rescale_intensity(image[:,:,b],in_range=(p2,p98),out_range=(0,1))\n",
    "    rescaled_image[:,:,b] = rescaled_band\n",
    "image = rescaled_image\n",
    "\n",
    "\n",
    "mask_binned = ml.bin_image(mask)\n",
    "mask = ml.getSegmentationArr(mask_binned, ml.N_CLASSES)\n",
    "\n",
    "H_32 = int(image.shape[0]/32)*32\n",
    "W_32 = int(image.shape[1]/32)*32\n",
    "\n",
    "image = image[0:H_32,0: W_32,:]\n",
    "mask = mask[0:H_32, 0:W_32,:]\n",
    "\n",
    "image = np.expand_dims(image,axis=0)\n",
    "\n",
    "prediction = model.predict(image)\n",
    "\n",
    "image = image.squeeze()\n",
    "prediction = np.argmax(prediction,axis=-1)\n",
    "mask = np.argmax(mask,axis=-1)\n",
    "\n",
    "prediction = np.rollaxis(prediction,0,3)\n",
    "fig, axs = plt.subplots(1,3,figsize=(25,25))\n",
    "plt.tight_layout()\n",
    "\n",
    "axs[0].imshow(image[:,:,0],cmap='PuBuGn_r')\n",
    "axs[1].imshow(prediction)\n",
    "axs[2].imshow(mask)\n",
    "\n",
    "axs[0].set_title(\"Original Image\")\n",
    "axs[1].set_title(\"Prediction\")\n",
    "axs[2].set_title(\"Ground Truth\")\n",
    "\n",
    "plt.savefig('/localhome/studenter/renatask/Project/ML/predicted_images/' + model_name + 'random/' +img_name+ '_' + str(count) + '.png')\n",
    "count += 1\n",
    "\n",
    "\n",
    "\n"
   ]
  },
  {
   "cell_type": "code",
   "execution_count": 22,
   "metadata": {},
   "outputs": [],
   "source": [
    "\"\"\" Remove this cell \"\"\"\n",
    "import rasterio\n",
    "from skimage import exposure\n",
    "\n",
    "image_path = '/localhome/studenter/renatask/Project/data/datasets/data_flood_test/test/images/baklidammen_S1A_IW_GRDH_1SDV_20200628T164709.tif.tif'\n",
    "img_name = 'baklidammen_S1A_IW_GRDH_1SDV_20200628T164709'\n",
    "\n",
    "\n",
    "image = rasterio.open(image_path).read()\n",
    "image = np.rollaxis(image,0,3)\n",
    "bands = image.shape[-1]\n",
    "\n",
    "rescaled_image = np.zeros(image.shape,dtype=\"float32\")\n",
    "for b in range(bands):\n",
    "    p2 = np.percentile(image[:,:,b],2)\n",
    "    p98 = np.percentile(image[:,:,b],98)\n",
    "    rescaled_band = exposure.rescale_intensity(image[:,:,b],in_range=(p2,p98),out_range=(0,1))\n",
    "    rescaled_image[:,:,b] = rescaled_band\n",
    "image = rescaled_image\n",
    "\n",
    "\n",
    "H_32 = int(image.shape[0]/32)*32\n",
    "W_32 = int(image.shape[1]/32)*32\n",
    "\n",
    "image = image[0:H_32,0: W_32,:]\n",
    "\n",
    "image = np.expand_dims(image,axis=0)\n",
    "\n",
    "prediction = model.predict(image)\n",
    "\n",
    "image = image.squeeze()\n",
    "prediction = np.argmax(prediction,axis=-1)\n",
    "\n",
    "prediction = np.rollaxis(prediction,0,3)\n",
    "fig, axs = plt.subplots(1,2,figsize=(25,25))\n",
    "plt.tight_layout()\n",
    "\n",
    "axs[0].imshow(image[:,:,0],cmap='PuBuGn_r')\n",
    "axs[1].imshow(prediction)\n",
    "\n",
    "axs[0].set_title(\"Original Image\")\n",
    "axs[1].set_title(\"Prediction\")\n",
    "\n",
    "plt.savefig('/localhome/studenter/renatask/Project/ML/predicted_images/' + model_name + 'test/' +img_name+ '_' + str(count) + '.png')\n",
    "count += 1\n"
   ]
  }
 ],
 "metadata": {
  "interpreter": {
   "hash": "88863eb635f022b4d05b3776e0180ad34ecd491bf96b3346036d4de08ca08987"
  },
  "kernelspec": {
   "display_name": "Python 3.9.7 64-bit ('3.9.7')",
   "language": "python",
   "name": "python3"
  },
  "language_info": {
   "codemirror_mode": {
    "name": "ipython",
    "version": 3
   },
   "file_extension": ".py",
   "mimetype": "text/x-python",
   "name": "python",
   "nbconvert_exporter": "python",
   "pygments_lexer": "ipython3",
   "version": "3.9.7"
  },
  "orig_nbformat": 4
 },
 "nbformat": 4,
 "nbformat_minor": 2
}
