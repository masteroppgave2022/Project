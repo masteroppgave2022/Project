{
 "cells": [
  {
   "cell_type": "code",
   "execution_count": 1,
   "metadata": {},
   "outputs": [
    {
     "name": "stdout",
     "output_type": "stream",
     "text": [
      "Segmentation Models: using `keras` framework.\n"
     ]
    }
   ],
   "source": [
    "\"\"\" Import dependencies \"\"\"\n",
    "import os\n",
    "import keras\n",
    "import numpy as np\n",
    "import tensorflow as tf\n",
    "from sklearn import metrics\n",
    "from ML.ml_utils import ML_utils\n",
    "import matplotlib\n",
    "from matplotlib import pyplot as plt\n",
    "\n",
    "%matplotlib inline"
   ]
  },
  {
   "cell_type": "code",
   "execution_count": 2,
   "metadata": {},
   "outputs": [],
   "source": [
    "\"\"\" User defined parameters \"\"\"\n",
    "matplotlib.use('agg')\n",
    "plt.ioff()\n",
    "dataset_name = 'data_medium'\n",
    "path_to_model = '/localhome/studenter/mikaellv/Project/ML/models/test_model_5'\n",
    "save_path_image_predictions = '/localhome/studenter/mikaellv/Project/ML/predicted_images/'"
   ]
  },
  {
   "cell_type": "code",
   "execution_count": 3,
   "metadata": {},
   "outputs": [
    {
     "name": "stderr",
     "output_type": "stream",
     "text": [
      "2022-03-27 12:17:49.383300: I tensorflow/stream_executor/cuda/cuda_gpu_executor.cc:939] successful NUMA node read from SysFS had negative value (-1), but there must be at least one NUMA node, so returning NUMA node zero\n",
      "2022-03-27 12:17:49.411756: I tensorflow/stream_executor/cuda/cuda_gpu_executor.cc:939] successful NUMA node read from SysFS had negative value (-1), but there must be at least one NUMA node, so returning NUMA node zero\n",
      "2022-03-27 12:17:49.412493: I tensorflow/stream_executor/cuda/cuda_gpu_executor.cc:939] successful NUMA node read from SysFS had negative value (-1), but there must be at least one NUMA node, so returning NUMA node zero\n",
      "2022-03-27 12:17:49.413518: I tensorflow/core/platform/cpu_feature_guard.cc:151] This TensorFlow binary is optimized with oneAPI Deep Neural Network Library (oneDNN) to use the following CPU instructions in performance-critical operations:  AVX2 FMA\n",
      "To enable them in other operations, rebuild TensorFlow with the appropriate compiler flags.\n",
      "2022-03-27 12:17:49.414971: I tensorflow/stream_executor/cuda/cuda_gpu_executor.cc:939] successful NUMA node read from SysFS had negative value (-1), but there must be at least one NUMA node, so returning NUMA node zero\n",
      "2022-03-27 12:17:49.415663: I tensorflow/stream_executor/cuda/cuda_gpu_executor.cc:939] successful NUMA node read from SysFS had negative value (-1), but there must be at least one NUMA node, so returning NUMA node zero\n",
      "2022-03-27 12:17:49.416333: I tensorflow/stream_executor/cuda/cuda_gpu_executor.cc:939] successful NUMA node read from SysFS had negative value (-1), but there must be at least one NUMA node, so returning NUMA node zero\n",
      "2022-03-27 12:17:49.748535: I tensorflow/stream_executor/cuda/cuda_gpu_executor.cc:939] successful NUMA node read from SysFS had negative value (-1), but there must be at least one NUMA node, so returning NUMA node zero\n",
      "2022-03-27 12:17:49.749227: I tensorflow/stream_executor/cuda/cuda_gpu_executor.cc:939] successful NUMA node read from SysFS had negative value (-1), but there must be at least one NUMA node, so returning NUMA node zero\n",
      "2022-03-27 12:17:49.749877: I tensorflow/stream_executor/cuda/cuda_gpu_executor.cc:939] successful NUMA node read from SysFS had negative value (-1), but there must be at least one NUMA node, so returning NUMA node zero\n",
      "2022-03-27 12:17:49.750491: I tensorflow/core/common_runtime/gpu/gpu_device.cc:1525] Created device /job:localhost/replica:0/task:0/device:GPU:0 with 22292 MB memory:  -> device: 0, name: NVIDIA GeForce RTX 3090, pci bus id: 0000:49:00.0, compute capability: 8.6\n"
     ]
    }
   ],
   "source": [
    "\"\"\" Load model \"\"\"\n",
    "ml = ML_utils()\n",
    "model = keras.models.load_model(path_to_model)\n",
    "\n",
    "\"\"\" Define test image paths \"\"\"\n",
    "path_to_images = \"data/datasets/\" + dataset_name + \"/test/images\"\n",
    "path_to_masks = \"data/datasets/\" + dataset_name + \"/test/masks\"\n",
    "\n",
    "\"\"\" Define classes \"\"\"\n",
    "classes = {\n",
    "    0: 'not_water',\n",
    "    1: 'water'\n",
    "}"
   ]
  },
  {
   "cell_type": "code",
   "execution_count": 4,
   "metadata": {},
   "outputs": [
    {
     "name": "stderr",
     "output_type": "stream",
     "text": [
      "2022-03-27 12:19:09.975948: I tensorflow/stream_executor/cuda/cuda_dnn.cc:366] Loaded cuDNN version 8301\n",
      "2022-03-27 12:19:10.785628: W tensorflow/stream_executor/gpu/asm_compiler.cc:111] *** WARNING *** You are using ptxas 10.1.243, which is older than 11.1. ptxas before 11.1 is known to miscompile XLA code, leading to incorrect results or invalid-address errors.\n",
      "\n",
      "You may not need to update to CUDA 11.1; cherry-picking the ptxas binary is often sufficient.\n",
      "2022-03-27 12:19:10.805509: W tensorflow/stream_executor/gpu/asm_compiler.cc:230] Falling back to the CUDA driver for PTX compilation; ptxas does not support CC 8.6\n",
      "2022-03-27 12:19:10.805541: W tensorflow/stream_executor/gpu/asm_compiler.cc:233] Used ptxas at ptxas\n",
      "2022-03-27 12:19:10.805642: W tensorflow/stream_executor/gpu/redzone_allocator.cc:314] UNIMPLEMENTED: ptxas ptxas too old. Falling back to the driver to compile.\n",
      "Relying on driver to perform ptx compilation. \n",
      "Modify $PATH to customize ptxas location.\n",
      "This message will be only logged once.\n"
     ]
    }
   ],
   "source": [
    "\"\"\" Produce images \"\"\"\n",
    "n_images = len([img for img in os.listdir(path_to_images) if not img.startswith('.')])\n",
    "test_data_generator = ml.DataGenerator(path_to_images,path_to_masks,train=False)\n",
    "n_classes = len(classes)\n",
    "predict_batch = 32\n",
    "n_batch = n_images // 32\n",
    "if not n_images % 32 == 0: n_batch += 1\n",
    "images = []\n",
    "predictions = []\n",
    "segmentations = []\n",
    "\n",
    "\"\"\" Predict images \"\"\"\n",
    "for batch in range(0,n_batch):\n",
    "    imgs, masks = next(test_data_generator)\n",
    "    for i in range(0, len(imgs)):\n",
    "        img = np.expand_dims(imgs[i],axis=0)\n",
    "        images.append(imgs[i])\n",
    "        predictions.append(model.predict(img))\n",
    "        segmentations.append(masks[i])"
   ]
  },
  {
   "cell_type": "code",
   "execution_count": 5,
   "metadata": {},
   "outputs": [],
   "source": [
    "\"\"\" Set predictions to maximum value (single-band) \"\"\"\n",
    "for i in range(len(predictions)):\n",
    "    predictions[i] = np.argmax(predictions[i],axis=-1)\n",
    "    segmentations[i] = np.argmax(segmentations[i],axis=-1)"
   ]
  },
  {
   "cell_type": "code",
   "execution_count": 6,
   "metadata": {},
   "outputs": [
    {
     "name": "stderr",
     "output_type": "stream",
     "text": [
      "/tmp/ipykernel_2360079/2660346826.py:5: RuntimeWarning: More than 20 figures have been opened. Figures created through the pyplot interface (`matplotlib.pyplot.figure`) are retained until explicitly closed and may consume too much memory. (To control this warning, see the rcParam `figure.max_open_warning`).\n",
      "  fig, axs = plt.subplots(1,3,figsize=(25,25))\n"
     ]
    }
   ],
   "source": [
    "\"\"\" Save predicted images for visualization \"\"\"\n",
    "count = 0\n",
    "for img, pred, mask in zip(images,predictions,segmentations):\n",
    "    pred = np.rollaxis(pred,0,3)\n",
    "    fig, axs = plt.subplots(1,3,figsize=(25,25))\n",
    "    plt.tight_layout()\n",
    "\n",
    "    axs[0].imshow(img[:,:,0],cmap='PuBuGn_r')\n",
    "    axs[1].imshow(pred)\n",
    "    axs[2].imshow(mask)\n",
    "\n",
    "    axs[0].set_title(\"Original Image\")\n",
    "    axs[1].set_title(\"Prediction\")\n",
    "    axs[2].set_title(\"Ground Truth\")\n",
    "\n",
    "    plt.savefig(save_path_image_predictions + str(count) + '.png')\n",
    "    count += 1"
   ]
  },
  {
   "cell_type": "code",
   "execution_count": 8,
   "metadata": {},
   "outputs": [
    {
     "name": "stdout",
     "output_type": "stream",
     "text": [
      "Precision: 0.9721709699850013\n",
      "Recall: 0.9670655425323065\n",
      "F1-Score: 0.9696115357299029\n"
     ]
    }
   ],
   "source": [
    "\"\"\" Calculate performance \"\"\"\n",
    "# Flatten arrays\n",
    "print(\"[INFO] Flattening all numpy arrays... this may take a couple om minutes.\")\n",
    "predictions = np.concatenate([np_array.ravel() for np_array in predictions])\n",
    "segmentations = np.concatenate([np_array.ravel() for np_array in segmentations])\n",
    "\n",
    "print(\"[INFO] Calculating precision/recall...\")\n",
    "precision = metrics.precision_score(segmentations, predictions, average='weighted')\n",
    "recall = metrics.recall_score(segmentations, predictions, average='weighted')\n",
    "\n",
    "print(f\"Precision: {precision}\")\n",
    "print(f\"Recall: {recall}\")\n",
    "print(f\"F1-Score: {(2*precision*recall)/(recall+precision)}\")"
   ]
  }
 ],
 "metadata": {
  "interpreter": {
   "hash": "88863eb635f022b4d05b3776e0180ad34ecd491bf96b3346036d4de08ca08987"
  },
  "kernelspec": {
   "display_name": "Python 3.9.7 64-bit ('3.9.7')",
   "language": "python",
   "name": "python3"
  },
  "language_info": {
   "codemirror_mode": {
    "name": "ipython",
    "version": 3
   },
   "file_extension": ".py",
   "mimetype": "text/x-python",
   "name": "python",
   "nbconvert_exporter": "python",
   "pygments_lexer": "ipython3",
   "version": "3.9.7"
  },
  "orig_nbformat": 4
 },
 "nbformat": 4,
 "nbformat_minor": 2
}
